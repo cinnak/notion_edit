{
  "nbformat": 4,
  "nbformat_minor": 0,
  "metadata": {
    "colab": {
      "provenance": [],
      "authorship_tag": "ABX9TyObeB6lTEtAyXgmOGS3PYlg",
      "include_colab_link": true
    },
    "kernelspec": {
      "name": "python3",
      "display_name": "Python 3"
    },
    "language_info": {
      "name": "python"
    }
  },
  "cells": [
    {
      "cell_type": "markdown",
      "metadata": {
        "id": "view-in-github",
        "colab_type": "text"
      },
      "source": [
        "<a href=\"https://colab.research.google.com/github/cinnak/notion_edit/blob/main/notion_edit.ipynb\" target=\"_parent\"><img src=\"https://colab.research.google.com/assets/colab-badge.svg\" alt=\"Open In Colab\"/></a>"
      ]
    },
    {
      "cell_type": "code",
      "source": [
        "from notion.client import NotionClient\n",
        "import notion\n",
        "import requests\n",
        "import json\n",
        "from google.colab import userdata\n",
        "YOUR_API_KEY = userdata.get('your_key_name')\n",
        "DATABASE_ID= \"your_database_id\"\n",
        "headers = {\n",
        "    \"Authorization\": \"Bearer \" + YOUR_API_KEY,\n",
        "    \"Content-Type\": \"application/json\",\n",
        "    \"Notion-Version\": \"2022-06-28\",\n",
        "}\n",
        "\n",
        "\n",
        "def get_pages(db_id,num_pages=None):\n",
        "    \"\"\"\n",
        "    If num_pages is None, get all pages, otherwise just the defined number.\n",
        "    \"\"\"\n",
        "    url = f\"https://api.notion.com/v1/databases/{db_id}/query\"\n",
        "\n",
        "    get_all = num_pages is None\n",
        "    page_size = 100 if get_all else num_pages\n",
        "\n",
        "    payload = {\"page_size\": page_size}\n",
        "    response = requests.post(url, json=payload, headers=headers)\n",
        "\n",
        "    data = response.json()\n",
        "    results = data[\"results\"]\n",
        "    while data[\"has_more\"] and get_all:\n",
        "        payload = {\"page_size\": page_size, \"start_cursor\": data[\"next_cursor\"]}\n",
        "        url = f\"https://api.notion.com/v1/databases/{db_id}/query\"\n",
        "        response = requests.post(url, json=payload, headers=headers)\n",
        "        data = response.json()\n",
        "        results.extend(data[\"results\"])\n",
        "    return results\n",
        "\n",
        "\n",
        "def create_block(token, page_id, text_content):\n",
        "    url = f\"https://api.notion.com/v1/blocks/{page_id}/children\"\n",
        "    data = {\n",
        "\t\"children\": [\n",
        "\t\t{\n",
        "\t\t\t\"object\": \"block\",\n",
        "\t\t\t\"type\": \"paragraph\",\n",
        "\t\t\t\"paragraph\": {\n",
        "\t\t\t\t\"rich_text\": [\n",
        "\t\t\t\t\t{\n",
        "\t\t\t\t\t\t\"type\": \"text\",\n",
        "\t\t\t\t\t\t\"text\": {\n",
        "\t\t\t\t\t\t\t\"content\": text_content\n",
        "\t\t\t\t\t\t}\n",
        "\t\t\t\t\t}\n",
        "\t\t\t\t]\n",
        "\t\t\t}\n",
        "\t\t}\n",
        "\t]\n",
        "}\n",
        "    response = requests.patch(url, headers=headers, data=json.dumps(data))\n",
        "    if response.status_code != 200:\n",
        "        raise Exception(f\"Request failed with status {response.status_code} {response.text}\")\n",
        "\n",
        "if __name__==\"__main__\":\n",
        "    pages = get_pages(DATABASE_ID,num_pages=None)\n",
        "    for page in pages:\n",
        "        content = page['properties']['简评']['rich_text'][0]['text']['content']\n",
        "        page_id = page['id']\n",
        "        create_block(YOUR_API_KEY, page_id, content)"
      ],
      "metadata": {
        "id": "UYYpfEtm6ddR"
      },
      "execution_count": null,
      "outputs": []
    }
  ]
}